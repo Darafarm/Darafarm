{
  "cells": [
    {
      "cell_type": "markdown",
      "metadata": {
        "id": "view-in-github",
        "colab_type": "text"
      },
      "source": [
        "<a href=\"https://colab.research.google.com/github/Darafarm/Darafarm/blob/main/predicting_fraudulent_transactions.ipynb\" target=\"_parent\"><img src=\"https://colab.research.google.com/assets/colab-badge.svg\" alt=\"Open In Colab\"/></a>"
      ]
    },
    {
      "cell_type": "code",
      "execution_count": null,
      "id": "d48ffc61",
      "metadata": {
        "id": "d48ffc61",
        "outputId": "7203351d-5291-4b80-d4ae-2ab3f7fffd19"
      },
      "outputs": [
        {
          "name": "stdout",
          "output_type": "stream",
          "text": [
            "Requirement already satisfied: optuna in c:\\users\\olasoft computer\\anaconda3\\lib\\site-packages (2.10.0)\n",
            "Requirement already satisfied: scipy!=1.4.0 in c:\\users\\olasoft computer\\anaconda3\\lib\\site-packages (from optuna) (1.7.1)\n",
            "Requirement already satisfied: colorlog in c:\\users\\olasoft computer\\anaconda3\\lib\\site-packages (from optuna) (6.6.0)\n",
            "Requirement already satisfied: cmaes>=0.8.2 in c:\\users\\olasoft computer\\anaconda3\\lib\\site-packages (from optuna) (0.8.2)\n",
            "Requirement already satisfied: PyYAML in c:\\users\\olasoft computer\\anaconda3\\lib\\site-packages (from optuna) (6.0)\n",
            "Requirement already satisfied: alembic in c:\\users\\olasoft computer\\anaconda3\\lib\\site-packages (from optuna) (1.7.7)\n",
            "Requirement already satisfied: sqlalchemy>=1.1.0 in c:\\users\\olasoft computer\\anaconda3\\lib\\site-packages (from optuna) (1.4.22)\n",
            "Requirement already satisfied: tqdm in c:\\users\\olasoft computer\\anaconda3\\lib\\site-packages (from optuna) (4.62.3)\n",
            "Requirement already satisfied: numpy in c:\\users\\olasoft computer\\anaconda3\\lib\\site-packages (from optuna) (1.20.3)\n",
            "Requirement already satisfied: packaging>=20.0 in c:\\users\\olasoft computer\\anaconda3\\lib\\site-packages (from optuna) (21.0)\n",
            "Requirement already satisfied: cliff in c:\\users\\olasoft computer\\anaconda3\\lib\\site-packages (from optuna) (3.10.1)\n",
            "Requirement already satisfied: pyparsing>=2.0.2 in c:\\users\\olasoft computer\\anaconda3\\lib\\site-packages (from packaging>=20.0->optuna) (3.0.4)\n",
            "Requirement already satisfied: greenlet!=0.4.17 in c:\\users\\olasoft computer\\anaconda3\\lib\\site-packages (from sqlalchemy>=1.1.0->optuna) (1.1.1)\n",
            "Requirement already satisfied: Mako in c:\\users\\olasoft computer\\anaconda3\\lib\\site-packages (from alembic->optuna) (1.2.0)\n",
            "Requirement already satisfied: autopage>=0.4.0 in c:\\users\\olasoft computer\\anaconda3\\lib\\site-packages (from cliff->optuna) (0.5.0)\n",
            "Requirement already satisfied: pbr!=2.1.0,>=2.0.0 in c:\\users\\olasoft computer\\anaconda3\\lib\\site-packages (from cliff->optuna) (5.8.1)\n",
            "Requirement already satisfied: PrettyTable>=0.7.2 in c:\\users\\olasoft computer\\anaconda3\\lib\\site-packages (from cliff->optuna) (3.2.0)\n",
            "Requirement already satisfied: cmd2>=1.0.0 in c:\\users\\olasoft computer\\anaconda3\\lib\\site-packages (from cliff->optuna) (2.4.1)\n",
            "Requirement already satisfied: stevedore>=2.0.1 in c:\\users\\olasoft computer\\anaconda3\\lib\\site-packages (from cliff->optuna) (3.5.0)\n",
            "Requirement already satisfied: pyreadline3 in c:\\users\\olasoft computer\\anaconda3\\lib\\site-packages (from cmd2>=1.0.0->cliff->optuna) (3.4.1)\n",
            "Requirement already satisfied: attrs>=16.3.0 in c:\\users\\olasoft computer\\anaconda3\\lib\\site-packages (from cmd2>=1.0.0->cliff->optuna) (21.2.0)\n",
            "Requirement already satisfied: pyperclip>=1.6 in c:\\users\\olasoft computer\\anaconda3\\lib\\site-packages (from cmd2>=1.0.0->cliff->optuna) (1.8.2)\n",
            "Requirement already satisfied: wcwidth>=0.1.7 in c:\\users\\olasoft computer\\anaconda3\\lib\\site-packages (from cmd2>=1.0.0->cliff->optuna) (0.2.5)\n",
            "Requirement already satisfied: colorama in c:\\users\\olasoft computer\\anaconda3\\lib\\site-packages (from colorlog->optuna) (0.4.4)\n",
            "Requirement already satisfied: MarkupSafe>=0.9.2 in c:\\users\\olasoft computer\\anaconda3\\lib\\site-packages (from Mako->alembic->optuna) (1.1.1)\n",
            "Note: you may need to restart the kernel to use updated packages.\n"
          ]
        }
      ],
      "source": [
        "pip install optuna"
      ]
    },
    {
      "cell_type": "code",
      "execution_count": null,
      "id": "438463a7",
      "metadata": {
        "id": "438463a7",
        "outputId": "b2b5481d-ae9d-499d-b67d-fe66b357cbfa"
      },
      "outputs": [
        {
          "name": "stdout",
          "output_type": "stream",
          "text": [
            "Collecting xgboost\n",
            "  Downloading xgboost-1.6.0-py3-none-win_amd64.whl (126.1 MB)\n",
            "Requirement already satisfied: numpy in c:\\users\\olasoft computer\\anaconda3\\lib\\site-packages (from xgboost) (1.20.3)\n",
            "Requirement already satisfied: scipy in c:\\users\\olasoft computer\\anaconda3\\lib\\site-packages (from xgboost) (1.7.1)\n",
            "Installing collected packages: xgboost\n",
            "Successfully installed xgboost-1.6.0\n",
            "Note: you may need to restart the kernel to use updated packages.\n"
          ]
        }
      ],
      "source": [
        "pip install xgboost"
      ]
    },
    {
      "cell_type": "code",
      "execution_count": null,
      "id": "d4d439a9",
      "metadata": {
        "id": "d4d439a9",
        "outputId": "04e97257-e67e-4699-bb9e-9789dbf7fe58"
      },
      "outputs": [
        {
          "name": "stdout",
          "output_type": "stream",
          "text": [
            "Collecting lightgbm\n",
            "  Downloading lightgbm-3.3.2-py3-none-win_amd64.whl (1.0 MB)\n",
            "Requirement already satisfied: scikit-learn!=0.22.0 in c:\\users\\olasoft computer\\anaconda3\\lib\\site-packages (from lightgbm) (1.0.2)\n",
            "Requirement already satisfied: numpy in c:\\users\\olasoft computer\\anaconda3\\lib\\site-packages (from lightgbm) (1.20.3)\n",
            "Requirement already satisfied: wheel in c:\\users\\olasoft computer\\anaconda3\\lib\\site-packages (from lightgbm) (0.37.0)\n",
            "Requirement already satisfied: scipy in c:\\users\\olasoft computer\\anaconda3\\lib\\site-packages (from lightgbm) (1.7.1)\n",
            "Requirement already satisfied: joblib>=0.11 in c:\\users\\olasoft computer\\anaconda3\\lib\\site-packages (from scikit-learn!=0.22.0->lightgbm) (1.1.0)\n",
            "Requirement already satisfied: threadpoolctl>=2.0.0 in c:\\users\\olasoft computer\\anaconda3\\lib\\site-packages (from scikit-learn!=0.22.0->lightgbm) (2.2.0)\n",
            "Installing collected packages: lightgbm\n",
            "Successfully installed lightgbm-3.3.2\n",
            "Note: you may need to restart the kernel to use updated packages.\n"
          ]
        }
      ],
      "source": [
        "pip install lightgbm"
      ]
    },
    {
      "cell_type": "code",
      "execution_count": null,
      "id": "e8f87e81",
      "metadata": {
        "id": "e8f87e81",
        "outputId": "c3b16cbf-4cda-4c8e-9261-9c992a10cafe"
      },
      "outputs": [
        {
          "name": "stdout",
          "output_type": "stream",
          "text": [
            "Collecting catboost\n",
            "  Downloading catboost-1.0.5-cp39-none-win_amd64.whl (73.9 MB)\n",
            "Requirement already satisfied: pandas>=0.24.0 in c:\\users\\olasoft computer\\anaconda3\\lib\\site-packages (from catboost) (1.3.4)\n",
            "Requirement already satisfied: plotly in c:\\users\\olasoft computer\\anaconda3\\lib\\site-packages (from catboost) (5.7.0)\n",
            "Requirement already satisfied: scipy in c:\\users\\olasoft computer\\anaconda3\\lib\\site-packages (from catboost) (1.7.1)\n",
            "Collecting graphviz\n",
            "  Downloading graphviz-0.20-py3-none-any.whl (46 kB)\n",
            "Requirement already satisfied: six in c:\\users\\olasoft computer\\anaconda3\\lib\\site-packages (from catboost) (1.16.0)\n",
            "Requirement already satisfied: numpy>=1.16.0 in c:\\users\\olasoft computer\\anaconda3\\lib\\site-packages (from catboost) (1.20.3)\n",
            "Requirement already satisfied: matplotlib in c:\\users\\olasoft computer\\anaconda3\\lib\\site-packages (from catboost) (3.4.3)\n",
            "Requirement already satisfied: python-dateutil>=2.7.3 in c:\\users\\olasoft computer\\anaconda3\\lib\\site-packages (from pandas>=0.24.0->catboost) (2.8.2)\n",
            "Requirement already satisfied: pytz>=2017.3 in c:\\users\\olasoft computer\\anaconda3\\lib\\site-packages (from pandas>=0.24.0->catboost) (2021.3)\n",
            "Requirement already satisfied: pyparsing>=2.2.1 in c:\\users\\olasoft computer\\anaconda3\\lib\\site-packages (from matplotlib->catboost) (3.0.4)\n",
            "Requirement already satisfied: pillow>=6.2.0 in c:\\users\\olasoft computer\\anaconda3\\lib\\site-packages (from matplotlib->catboost) (8.4.0)\n",
            "Requirement already satisfied: kiwisolver>=1.0.1 in c:\\users\\olasoft computer\\anaconda3\\lib\\site-packages (from matplotlib->catboost) (1.3.1)\n",
            "Requirement already satisfied: cycler>=0.10 in c:\\users\\olasoft computer\\anaconda3\\lib\\site-packages (from matplotlib->catboost) (0.10.0)\n",
            "Requirement already satisfied: tenacity>=6.2.0 in c:\\users\\olasoft computer\\anaconda3\\lib\\site-packages (from plotly->catboost) (8.0.1)\n",
            "Installing collected packages: graphviz, catboost\n",
            "Successfully installed catboost-1.0.5 graphviz-0.20\n",
            "Note: you may need to restart the kernel to use updated packages.\n"
          ]
        }
      ],
      "source": [
        "pip install catboost"
      ]
    },
    {
      "cell_type": "code",
      "execution_count": null,
      "id": "66eee55b",
      "metadata": {
        "_cell_guid": "b1076dfc-b9ad-4769-8c92-a6c4dae69d19",
        "_uuid": "8f2839f25d086af736a60e9eeb907d3b93b6e0e5",
        "execution": {
          "iopub.execute_input": "2022-03-22T05:08:53.232870Z",
          "iopub.status.busy": "2022-03-22T05:08:53.230876Z",
          "iopub.status.idle": "2022-03-22T05:08:56.830383Z",
          "shell.execute_reply": "2022-03-22T05:08:56.829047Z",
          "shell.execute_reply.started": "2022-03-22T04:26:28.687816Z"
        },
        "papermill": {
          "duration": 3.639633,
          "end_time": "2022-03-22T05:08:56.830590",
          "exception": false,
          "start_time": "2022-03-22T05:08:53.190957",
          "status": "completed"
        },
        "tags": [],
        "id": "66eee55b"
      },
      "outputs": [],
      "source": [
        "import numpy as np\n",
        "import pandas as pd\n",
        "import matplotlib.pyplot as plt\n",
        "import seaborn as sns\n",
        "sns.set_style('darkgrid')\n",
        "plt.style.use('dark_background')\n",
        "import warnings\n",
        "warnings.filterwarnings('ignore')\n",
        "from sklearn.preprocessing import LabelEncoder\n",
        "label = LabelEncoder()\n",
        "\n",
        "# Splitting Train-Test data\n",
        "from sklearn.model_selection import train_test_split\n",
        "\n",
        "# For Cross Validation\n",
        "from sklearn.model_selection import StratifiedKFold\n",
        "from sklearn.metrics import accuracy_score\n",
        "\n",
        "# For showing Progress Bar\n",
        "from tqdm.notebook import tqdm\n",
        "\n",
        "# Models\n",
        "import optuna\n",
        "import xgboost as xgb\n",
        "import lightgbm as lgbm\n",
        "import catboost as catb"
      ]
    },
    {
      "cell_type": "code",
      "execution_count": null,
      "id": "f36b0b29",
      "metadata": {
        "execution": {
          "iopub.execute_input": "2022-03-22T05:08:56.905202Z",
          "iopub.status.busy": "2022-03-22T05:08:56.904174Z",
          "iopub.status.idle": "2022-03-22T05:08:56.913292Z",
          "shell.execute_reply": "2022-03-22T05:08:56.913964Z",
          "shell.execute_reply.started": "2022-03-22T04:27:31.153039Z"
        },
        "papermill": {
          "duration": 0.048457,
          "end_time": "2022-03-22T05:08:56.914151",
          "exception": false,
          "start_time": "2022-03-22T05:08:56.865694",
          "status": "completed"
        },
        "tags": [],
        "id": "f36b0b29"
      },
      "outputs": [],
      "source": [
        "def outlier_viz(col):\n",
        "    '''Distribution and Boxplot for Outlier Detection by @kartik2khandelwal'''\n",
        "    import random\n",
        "    color = random.choice(['r', 'g', 'b'])\n",
        "    fig, ax = plt.subplots(1,2,figsize=(15,5))\n",
        "    sns.distplot(col, ax=ax[0], color=color)\n",
        "    sns.boxplot(col, ax=ax[1], color=color)\n",
        "    plt.suptitle('Distribution & Boxplot for Outlier Detection')\n",
        "    fig.show()\n",
        "    return None\n",
        "\n",
        "def my_print(s):\n",
        "    '''Custom print function by @kartik2khandelwal :)'''\n",
        "    a = 4\n",
        "    for i in s:\n",
        "        a+=1\n",
        "    return print('*' * a + '\\n' + '| ' + s + ' |' + '\\n' + '*' * a)"
      ]
    },
    {
      "cell_type": "code",
      "execution_count": null,
      "id": "8f63082b",
      "metadata": {
        "execution": {
          "iopub.execute_input": "2022-03-22T05:08:56.992134Z",
          "iopub.status.busy": "2022-03-22T05:08:56.991406Z",
          "iopub.status.idle": "2022-03-22T05:09:17.201666Z",
          "shell.execute_reply": "2022-03-22T05:09:17.202371Z",
          "shell.execute_reply.started": "2022-03-22T04:17:47.146484Z"
        },
        "papermill": {
          "duration": 20.252343,
          "end_time": "2022-03-22T05:09:17.202559",
          "exception": false,
          "start_time": "2022-03-22T05:08:56.950216",
          "status": "completed"
        },
        "tags": [],
        "id": "8f63082b"
      },
      "outputs": [],
      "source": [
        "df = pd.read_csv('Fraud.csv')"
      ]
    },
    {
      "cell_type": "markdown",
      "id": "096dd949",
      "metadata": {
        "papermill": {
          "duration": 0.034534,
          "end_time": "2022-03-22T05:09:17.272009",
          "exception": false,
          "start_time": "2022-03-22T05:09:17.237475",
          "status": "completed"
        },
        "tags": [],
        "id": "096dd949"
      },
      "source": [
        "step - maps a unit of time in the real world. In this case 1 step is 1 hour of time. Total steps 744 (30 days simulation).\n",
        "\n",
        "type - CASH-IN, CASH-OUT, DEBIT, PAYMENT and TRANSFER.\n",
        "\n",
        "amount - amount of the transaction in local currency.\n",
        "\n",
        "nameOrig - customer who started the transaction\n",
        "\n",
        "oldbalanceOrg - initial balance before the transaction\n",
        "\n",
        "newbalanceOrig - new balance after the transaction\n",
        "\n",
        "nameDest - customer who is the recipient of the transaction\n",
        "\n",
        "oldbalanceDest - initial balance recipient before the transaction. Note that there is not information for customers that start with M (Merchants).\n",
        "\n",
        "newbalanceDest - new balance recipient after the transaction. Note that there is not information for customers that start with M (Merchants).\n",
        "\n",
        "isFraud - This is the transactions made by the fraudulent agents inside the simulation. In this specific dataset the fraudulent behavior of the agents aims to profit by taking control or customers accounts and try to empty the funds by transferring to another account and then cashing out of the system.\n",
        "\n",
        "isFlaggedFraud - The business model aims to control massive transfers from one account to another and flags illegal attempts. An illegal attempt in this dataset is an attempt to transfer more than 200.000 in a single transaction."
      ]
    },
    {
      "cell_type": "code",
      "execution_count": null,
      "id": "8cc1534e",
      "metadata": {
        "execution": {
          "iopub.execute_input": "2022-03-22T05:09:17.345834Z",
          "iopub.status.busy": "2022-03-22T05:09:17.344855Z",
          "iopub.status.idle": "2022-03-22T05:09:17.369325Z",
          "shell.execute_reply": "2022-03-22T05:09:17.368720Z",
          "shell.execute_reply.started": "2022-03-22T04:18:04.761185Z"
        },
        "papermill": {
          "duration": 0.060492,
          "end_time": "2022-03-22T05:09:17.369464",
          "exception": false,
          "start_time": "2022-03-22T05:09:17.308972",
          "status": "completed"
        },
        "tags": [],
        "id": "8cc1534e",
        "outputId": "4d4d875a-3ceb-4dca-9c91-93f61715db72"
      },
      "outputs": [
        {
          "data": {
            "text/html": [
              "<div>\n",
              "<style scoped>\n",
              "    .dataframe tbody tr th:only-of-type {\n",
              "        vertical-align: middle;\n",
              "    }\n",
              "\n",
              "    .dataframe tbody tr th {\n",
              "        vertical-align: top;\n",
              "    }\n",
              "\n",
              "    .dataframe thead th {\n",
              "        text-align: right;\n",
              "    }\n",
              "</style>\n",
              "<table border=\"1\" class=\"dataframe\">\n",
              "  <thead>\n",
              "    <tr style=\"text-align: right;\">\n",
              "      <th></th>\n",
              "      <th>step</th>\n",
              "      <th>type</th>\n",
              "      <th>amount</th>\n",
              "      <th>nameOrig</th>\n",
              "      <th>oldbalanceOrg</th>\n",
              "      <th>newbalanceOrig</th>\n",
              "      <th>nameDest</th>\n",
              "      <th>oldbalanceDest</th>\n",
              "      <th>newbalanceDest</th>\n",
              "      <th>isFraud</th>\n",
              "      <th>isFlaggedFraud</th>\n",
              "    </tr>\n",
              "  </thead>\n",
              "  <tbody>\n",
              "    <tr>\n",
              "      <th>6362615</th>\n",
              "      <td>743</td>\n",
              "      <td>CASH_OUT</td>\n",
              "      <td>339682.13</td>\n",
              "      <td>C786484425</td>\n",
              "      <td>339682.13</td>\n",
              "      <td>0.0</td>\n",
              "      <td>C776919290</td>\n",
              "      <td>0.00</td>\n",
              "      <td>339682.13</td>\n",
              "      <td>1</td>\n",
              "      <td>0</td>\n",
              "    </tr>\n",
              "    <tr>\n",
              "      <th>6362616</th>\n",
              "      <td>743</td>\n",
              "      <td>TRANSFER</td>\n",
              "      <td>6311409.28</td>\n",
              "      <td>C1529008245</td>\n",
              "      <td>6311409.28</td>\n",
              "      <td>0.0</td>\n",
              "      <td>C1881841831</td>\n",
              "      <td>0.00</td>\n",
              "      <td>0.00</td>\n",
              "      <td>1</td>\n",
              "      <td>0</td>\n",
              "    </tr>\n",
              "    <tr>\n",
              "      <th>6362617</th>\n",
              "      <td>743</td>\n",
              "      <td>CASH_OUT</td>\n",
              "      <td>6311409.28</td>\n",
              "      <td>C1162922333</td>\n",
              "      <td>6311409.28</td>\n",
              "      <td>0.0</td>\n",
              "      <td>C1365125890</td>\n",
              "      <td>68488.84</td>\n",
              "      <td>6379898.11</td>\n",
              "      <td>1</td>\n",
              "      <td>0</td>\n",
              "    </tr>\n",
              "    <tr>\n",
              "      <th>6362618</th>\n",
              "      <td>743</td>\n",
              "      <td>TRANSFER</td>\n",
              "      <td>850002.52</td>\n",
              "      <td>C1685995037</td>\n",
              "      <td>850002.52</td>\n",
              "      <td>0.0</td>\n",
              "      <td>C2080388513</td>\n",
              "      <td>0.00</td>\n",
              "      <td>0.00</td>\n",
              "      <td>1</td>\n",
              "      <td>0</td>\n",
              "    </tr>\n",
              "    <tr>\n",
              "      <th>6362619</th>\n",
              "      <td>743</td>\n",
              "      <td>CASH_OUT</td>\n",
              "      <td>850002.52</td>\n",
              "      <td>C1280323807</td>\n",
              "      <td>850002.52</td>\n",
              "      <td>0.0</td>\n",
              "      <td>C873221189</td>\n",
              "      <td>6510099.11</td>\n",
              "      <td>7360101.63</td>\n",
              "      <td>1</td>\n",
              "      <td>0</td>\n",
              "    </tr>\n",
              "  </tbody>\n",
              "</table>\n",
              "</div>"
            ],
            "text/plain": [
              "         step      type      amount     nameOrig  oldbalanceOrg  \\\n",
              "6362615   743  CASH_OUT   339682.13   C786484425      339682.13   \n",
              "6362616   743  TRANSFER  6311409.28  C1529008245     6311409.28   \n",
              "6362617   743  CASH_OUT  6311409.28  C1162922333     6311409.28   \n",
              "6362618   743  TRANSFER   850002.52  C1685995037      850002.52   \n",
              "6362619   743  CASH_OUT   850002.52  C1280323807      850002.52   \n",
              "\n",
              "         newbalanceOrig     nameDest  oldbalanceDest  newbalanceDest  isFraud  \\\n",
              "6362615             0.0   C776919290            0.00       339682.13        1   \n",
              "6362616             0.0  C1881841831            0.00            0.00        1   \n",
              "6362617             0.0  C1365125890        68488.84      6379898.11        1   \n",
              "6362618             0.0  C2080388513            0.00            0.00        1   \n",
              "6362619             0.0   C873221189      6510099.11      7360101.63        1   \n",
              "\n",
              "         isFlaggedFraud  \n",
              "6362615               0  \n",
              "6362616               0  \n",
              "6362617               0  \n",
              "6362618               0  \n",
              "6362619               0  "
            ]
          },
          "execution_count": 5,
          "metadata": {},
          "output_type": "execute_result"
        }
      ],
      "source": [
        "df.tail()"
      ]
    },
    {
      "cell_type": "code",
      "execution_count": null,
      "id": "75c822a7",
      "metadata": {
        "execution": {
          "iopub.execute_input": "2022-03-22T05:09:17.447064Z",
          "iopub.status.busy": "2022-03-22T05:09:17.445861Z",
          "iopub.status.idle": "2022-03-22T05:09:17.470200Z",
          "shell.execute_reply": "2022-03-22T05:09:17.470729Z",
          "shell.execute_reply.started": "2022-03-22T04:18:06.266173Z"
        },
        "papermill": {
          "duration": 0.064681,
          "end_time": "2022-03-22T05:09:17.470945",
          "exception": false,
          "start_time": "2022-03-22T05:09:17.406264",
          "status": "completed"
        },
        "tags": [],
        "id": "75c822a7",
        "outputId": "7a3b299d-104c-4a92-daed-5c86795d8efe"
      },
      "outputs": [
        {
          "name": "stdout",
          "output_type": "stream",
          "text": [
            "<class 'pandas.core.frame.DataFrame'>\n",
            "RangeIndex: 6362620 entries, 0 to 6362619\n",
            "Data columns (total 11 columns):\n",
            " #   Column          Dtype  \n",
            "---  ------          -----  \n",
            " 0   step            int64  \n",
            " 1   type            object \n",
            " 2   amount          float64\n",
            " 3   nameOrig        object \n",
            " 4   oldbalanceOrg   float64\n",
            " 5   newbalanceOrig  float64\n",
            " 6   nameDest        object \n",
            " 7   oldbalanceDest  float64\n",
            " 8   newbalanceDest  float64\n",
            " 9   isFraud         int64  \n",
            " 10  isFlaggedFraud  int64  \n",
            "dtypes: float64(5), int64(3), object(3)\n",
            "memory usage: 534.0+ MB\n"
          ]
        }
      ],
      "source": [
        "df.info()"
      ]
    },
    {
      "cell_type": "code",
      "execution_count": null,
      "id": "944c4851",
      "metadata": {
        "execution": {
          "iopub.execute_input": "2022-03-22T05:09:17.693275Z",
          "iopub.status.busy": "2022-03-22T05:09:17.602674Z",
          "iopub.status.idle": "2022-03-22T05:09:19.304537Z",
          "shell.execute_reply": "2022-03-22T05:09:19.303936Z",
          "shell.execute_reply.started": "2022-03-22T04:18:07.471706Z"
        },
        "papermill": {
          "duration": 1.796682,
          "end_time": "2022-03-22T05:09:19.304688",
          "exception": false,
          "start_time": "2022-03-22T05:09:17.508006",
          "status": "completed"
        },
        "tags": [],
        "id": "944c4851",
        "outputId": "6f2c59ba-2375-4f2a-fdc3-181561df41fe"
      },
      "outputs": [
        {
          "data": {
            "text/html": [
              "<div>\n",
              "<style scoped>\n",
              "    .dataframe tbody tr th:only-of-type {\n",
              "        vertical-align: middle;\n",
              "    }\n",
              "\n",
              "    .dataframe tbody tr th {\n",
              "        vertical-align: top;\n",
              "    }\n",
              "\n",
              "    .dataframe thead th {\n",
              "        text-align: right;\n",
              "    }\n",
              "</style>\n",
              "<table border=\"1\" class=\"dataframe\">\n",
              "  <thead>\n",
              "    <tr style=\"text-align: right;\">\n",
              "      <th></th>\n",
              "      <th>step</th>\n",
              "      <th>amount</th>\n",
              "      <th>oldbalanceOrg</th>\n",
              "      <th>newbalanceOrig</th>\n",
              "      <th>oldbalanceDest</th>\n",
              "      <th>newbalanceDest</th>\n",
              "      <th>isFraud</th>\n",
              "      <th>isFlaggedFraud</th>\n",
              "    </tr>\n",
              "  </thead>\n",
              "  <tbody>\n",
              "    <tr>\n",
              "      <th>count</th>\n",
              "      <td>6.362620e+06</td>\n",
              "      <td>6.362620e+06</td>\n",
              "      <td>6.362620e+06</td>\n",
              "      <td>6.362620e+06</td>\n",
              "      <td>6.362620e+06</td>\n",
              "      <td>6.362620e+06</td>\n",
              "      <td>6.362620e+06</td>\n",
              "      <td>6.362620e+06</td>\n",
              "    </tr>\n",
              "    <tr>\n",
              "      <th>mean</th>\n",
              "      <td>2.433972e+02</td>\n",
              "      <td>1.798619e+05</td>\n",
              "      <td>8.338831e+05</td>\n",
              "      <td>8.551137e+05</td>\n",
              "      <td>1.100702e+06</td>\n",
              "      <td>1.224996e+06</td>\n",
              "      <td>1.290820e-03</td>\n",
              "      <td>2.514687e-06</td>\n",
              "    </tr>\n",
              "    <tr>\n",
              "      <th>std</th>\n",
              "      <td>1.423320e+02</td>\n",
              "      <td>6.038582e+05</td>\n",
              "      <td>2.888243e+06</td>\n",
              "      <td>2.924049e+06</td>\n",
              "      <td>3.399180e+06</td>\n",
              "      <td>3.674129e+06</td>\n",
              "      <td>3.590480e-02</td>\n",
              "      <td>1.585775e-03</td>\n",
              "    </tr>\n",
              "    <tr>\n",
              "      <th>min</th>\n",
              "      <td>1.000000e+00</td>\n",
              "      <td>0.000000e+00</td>\n",
              "      <td>0.000000e+00</td>\n",
              "      <td>0.000000e+00</td>\n",
              "      <td>0.000000e+00</td>\n",
              "      <td>0.000000e+00</td>\n",
              "      <td>0.000000e+00</td>\n",
              "      <td>0.000000e+00</td>\n",
              "    </tr>\n",
              "    <tr>\n",
              "      <th>25%</th>\n",
              "      <td>1.560000e+02</td>\n",
              "      <td>1.338957e+04</td>\n",
              "      <td>0.000000e+00</td>\n",
              "      <td>0.000000e+00</td>\n",
              "      <td>0.000000e+00</td>\n",
              "      <td>0.000000e+00</td>\n",
              "      <td>0.000000e+00</td>\n",
              "      <td>0.000000e+00</td>\n",
              "    </tr>\n",
              "    <tr>\n",
              "      <th>50%</th>\n",
              "      <td>2.390000e+02</td>\n",
              "      <td>7.487194e+04</td>\n",
              "      <td>1.420800e+04</td>\n",
              "      <td>0.000000e+00</td>\n",
              "      <td>1.327057e+05</td>\n",
              "      <td>2.146614e+05</td>\n",
              "      <td>0.000000e+00</td>\n",
              "      <td>0.000000e+00</td>\n",
              "    </tr>\n",
              "    <tr>\n",
              "      <th>75%</th>\n",
              "      <td>3.350000e+02</td>\n",
              "      <td>2.087215e+05</td>\n",
              "      <td>1.073152e+05</td>\n",
              "      <td>1.442584e+05</td>\n",
              "      <td>9.430367e+05</td>\n",
              "      <td>1.111909e+06</td>\n",
              "      <td>0.000000e+00</td>\n",
              "      <td>0.000000e+00</td>\n",
              "    </tr>\n",
              "    <tr>\n",
              "      <th>max</th>\n",
              "      <td>7.430000e+02</td>\n",
              "      <td>9.244552e+07</td>\n",
              "      <td>5.958504e+07</td>\n",
              "      <td>4.958504e+07</td>\n",
              "      <td>3.560159e+08</td>\n",
              "      <td>3.561793e+08</td>\n",
              "      <td>1.000000e+00</td>\n",
              "      <td>1.000000e+00</td>\n",
              "    </tr>\n",
              "  </tbody>\n",
              "</table>\n",
              "</div>"
            ],
            "text/plain": [
              "               step        amount  oldbalanceOrg  newbalanceOrig  \\\n",
              "count  6.362620e+06  6.362620e+06   6.362620e+06    6.362620e+06   \n",
              "mean   2.433972e+02  1.798619e+05   8.338831e+05    8.551137e+05   \n",
              "std    1.423320e+02  6.038582e+05   2.888243e+06    2.924049e+06   \n",
              "min    1.000000e+00  0.000000e+00   0.000000e+00    0.000000e+00   \n",
              "25%    1.560000e+02  1.338957e+04   0.000000e+00    0.000000e+00   \n",
              "50%    2.390000e+02  7.487194e+04   1.420800e+04    0.000000e+00   \n",
              "75%    3.350000e+02  2.087215e+05   1.073152e+05    1.442584e+05   \n",
              "max    7.430000e+02  9.244552e+07   5.958504e+07    4.958504e+07   \n",
              "\n",
              "       oldbalanceDest  newbalanceDest       isFraud  isFlaggedFraud  \n",
              "count    6.362620e+06    6.362620e+06  6.362620e+06    6.362620e+06  \n",
              "mean     1.100702e+06    1.224996e+06  1.290820e-03    2.514687e-06  \n",
              "std      3.399180e+06    3.674129e+06  3.590480e-02    1.585775e-03  \n",
              "min      0.000000e+00    0.000000e+00  0.000000e+00    0.000000e+00  \n",
              "25%      0.000000e+00    0.000000e+00  0.000000e+00    0.000000e+00  \n",
              "50%      1.327057e+05    2.146614e+05  0.000000e+00    0.000000e+00  \n",
              "75%      9.430367e+05    1.111909e+06  0.000000e+00    0.000000e+00  \n",
              "max      3.560159e+08    3.561793e+08  1.000000e+00    1.000000e+00  "
            ]
          },
          "execution_count": 6,
          "metadata": {},
          "output_type": "execute_result"
        }
      ],
      "source": [
        "df.describe()"
      ]
    },
    {
      "cell_type": "code",
      "execution_count": null,
      "id": "3d1eb112",
      "metadata": {
        "execution": {
          "iopub.execute_input": "2022-03-22T05:09:19.380755Z",
          "iopub.status.busy": "2022-03-22T05:09:19.379985Z",
          "iopub.status.idle": "2022-03-22T05:09:20.249996Z",
          "shell.execute_reply": "2022-03-22T05:09:20.249266Z",
          "shell.execute_reply.started": "2022-03-22T04:18:10.076187Z"
        },
        "papermill": {
          "duration": 0.910274,
          "end_time": "2022-03-22T05:09:20.250141",
          "exception": false,
          "start_time": "2022-03-22T05:09:19.339867",
          "status": "completed"
        },
        "tags": [],
        "id": "3d1eb112",
        "outputId": "e03b9016-49c1-4601-ac49-0f0e15b1f190"
      },
      "outputs": [
        {
          "data": {
            "text/plain": [
              "<AxesSubplot:xlabel='isFraud', ylabel='count'>"
            ]
          },
          "execution_count": 16,
          "metadata": {},
          "output_type": "execute_result"
        },
        {
          "data": {
            "image/png": "[encoded data removed]",
            "text/plain": [
              "<Figure size 432x288 with 1 Axes>"
            ]
          },
          "metadata": {},
          "output_type": "display_data"
        }
      ],
      "source": [
        "sns.countplot(df['isFraud'])"
      ]
    },
    {
      "cell_type": "code",
      "execution_count": null,
      "id": "04a9552c",
      "metadata": {
        "id": "04a9552c",
        "outputId": "052db7fd-6eff-4027-a95e-a2783a8ea510"
      },
      "outputs": [
        {
          "data": {
            "text/plain": [
              "<AxesSubplot:>"
            ]
          },
          "execution_count": 17,
          "metadata": {},
          "output_type": "execute_result"
        },
        {
          "data": {
            "image/png": "[encoded data removed]",
            "text/plain": [
              "<Figure size 432x288 with 2 Axes>"
            ]
          },
          "metadata": {},
          "output_type": "display_data"
        }
      ],
      "source": [
        "sns.heatmap(df.isna())"
      ]
    },
    {
      "cell_type": "markdown",
      "id": "e8fd6425",
      "metadata": {
        "papermill": {
          "duration": 0.036959,
          "end_time": "2022-03-22T05:09:20.324635",
          "exception": false,
          "start_time": "2022-03-22T05:09:20.287676",
          "status": "completed"
        },
        "tags": [],
        "id": "e8fd6425"
      },
      "source": [
        "Target Variable is highly Imbalanced."
      ]
    },
    {
      "cell_type": "code",
      "execution_count": null,
      "id": "3017a231",
      "metadata": {
        "execution": {
          "iopub.execute_input": "2022-03-22T05:09:20.406650Z",
          "iopub.status.busy": "2022-03-22T05:09:20.405965Z",
          "iopub.status.idle": "2022-03-22T05:09:22.611843Z",
          "shell.execute_reply": "2022-03-22T05:09:22.612383Z",
          "shell.execute_reply.started": "2022-03-22T04:24:16.610458Z"
        },
        "papermill": {
          "duration": 2.251247,
          "end_time": "2022-03-22T05:09:22.612559",
          "exception": false,
          "start_time": "2022-03-22T05:09:20.361312",
          "status": "completed"
        },
        "tags": [],
        "id": "3017a231",
        "outputId": "8e28da16-99e3-4543-e6e6-9bc26a62488e"
      },
      "outputs": [
        {
          "data": {
            "image/png": "[encoded data removed]",
            "text/plain": [
              "<Figure size 576x360 with 2 Axes>"
            ]
          },
          "metadata": {},
          "output_type": "display_data"
        }
      ],
      "source": [
        "plt.figure(figsize=(8,5))\n",
        "sns.heatmap(df.corr(), cmap='cool_r', linewidth=0.1, annot=True);"
      ]
    },
    {
      "cell_type": "code",
      "execution_count": null,
      "id": "3dea457d",
      "metadata": {
        "execution": {
          "iopub.execute_input": "2022-03-22T05:09:22.728421Z",
          "iopub.status.busy": "2022-03-22T05:09:22.691296Z",
          "iopub.status.idle": "2022-03-22T05:09:22.732103Z",
          "shell.execute_reply": "2022-03-22T05:09:22.731479Z",
          "shell.execute_reply.started": "2022-03-22T04:18:20.972465Z"
        },
        "papermill": {
          "duration": 0.082118,
          "end_time": "2022-03-22T05:09:22.732289",
          "exception": false,
          "start_time": "2022-03-22T05:09:22.650171",
          "status": "completed"
        },
        "tags": [],
        "id": "3dea457d",
        "outputId": "ef829644-d1b1-4684-8443-23bde5e3b11b"
      },
      "outputs": [
        {
          "data": {
            "text/plain": [
              "0    6354407\n",
              "1       8213\n",
              "Name: isFraud, dtype: int64"
            ]
          },
          "execution_count": 9,
          "metadata": {},
          "output_type": "execute_result"
        }
      ],
      "source": [
        "df['isFraud'].value_counts()"
      ]
    },
    {
      "cell_type": "code",
      "execution_count": null,
      "id": "72f0cb5f",
      "metadata": {
        "execution": {
          "iopub.execute_input": "2022-03-22T05:09:22.815305Z",
          "iopub.status.busy": "2022-03-22T05:09:22.814089Z",
          "iopub.status.idle": "2022-03-22T05:09:22.829656Z",
          "shell.execute_reply": "2022-03-22T05:09:22.829008Z",
          "shell.execute_reply.started": "2022-03-22T04:18:23.701249Z"
        },
        "papermill": {
          "duration": 0.059303,
          "end_time": "2022-03-22T05:09:22.829804",
          "exception": false,
          "start_time": "2022-03-22T05:09:22.770501",
          "status": "completed"
        },
        "tags": [],
        "id": "72f0cb5f"
      },
      "outputs": [],
      "source": [
        "fraud = df[df['isFraud'] == 1]"
      ]
    },
    {
      "cell_type": "code",
      "execution_count": null,
      "id": "49af5442",
      "metadata": {
        "id": "49af5442",
        "outputId": "dcecaf7b-276c-4de9-b736-c6962ab9f447"
      },
      "outputs": [
        {
          "data": {
            "text/plain": [
              "step              8213\n",
              "type              8213\n",
              "amount            8213\n",
              "nameOrig          8213\n",
              "oldbalanceOrg     8213\n",
              "newbalanceOrig    8213\n",
              "nameDest          8213\n",
              "oldbalanceDest    8213\n",
              "newbalanceDest    8213\n",
              "isFraud           8213\n",
              "isFlaggedFraud    8213\n",
              "dtype: int64"
            ]
          },
          "execution_count": 24,
          "metadata": {},
          "output_type": "execute_result"
        }
      ],
      "source": [
        "fraud.count()"
      ]
    },
    {
      "cell_type": "code",
      "execution_count": null,
      "id": "538d851a",
      "metadata": {
        "execution": {
          "iopub.execute_input": "2022-03-22T05:09:22.912158Z",
          "iopub.status.busy": "2022-03-22T05:09:22.910853Z",
          "iopub.status.idle": "2022-03-22T05:09:25.052582Z",
          "shell.execute_reply": "2022-03-22T05:09:25.053188Z",
          "shell.execute_reply.started": "2022-03-22T04:18:25.746211Z"
        },
        "papermill": {
          "duration": 2.185674,
          "end_time": "2022-03-22T05:09:25.053403",
          "exception": false,
          "start_time": "2022-03-22T05:09:22.867729",
          "status": "completed"
        },
        "tags": [],
        "id": "538d851a",
        "outputId": "f02959a0-943c-4b8f-f9ba-2d1d196ae6cd"
      },
      "outputs": [
        {
          "data": {
            "text/plain": [
              "step              0\n",
              "type              0\n",
              "amount            0\n",
              "nameOrig          0\n",
              "oldbalanceOrg     0\n",
              "newbalanceOrig    0\n",
              "nameDest          0\n",
              "oldbalanceDest    0\n",
              "newbalanceDest    0\n",
              "isFraud           0\n",
              "isFlaggedFraud    0\n",
              "dtype: int64"
            ]
          },
          "execution_count": 11,
          "metadata": {},
          "output_type": "execute_result"
        }
      ],
      "source": [
        "df.isnull().sum()"
      ]
    },
    {
      "cell_type": "markdown",
      "id": "b3bad99e",
      "metadata": {
        "papermill": {
          "duration": 0.038153,
          "end_time": "2022-03-22T05:09:25.129488",
          "exception": false,
          "start_time": "2022-03-22T05:09:25.091335",
          "status": "completed"
        },
        "tags": [],
        "id": "b3bad99e"
      },
      "source": [
        "Splitting Numerical and Categorical Data"
      ]
    },
    {
      "cell_type": "code",
      "execution_count": null,
      "id": "4755a4ad",
      "metadata": {
        "execution": {
          "iopub.execute_input": "2022-03-22T05:09:25.230720Z",
          "iopub.status.busy": "2022-03-22T05:09:25.229390Z",
          "iopub.status.idle": "2022-03-22T05:09:25.694523Z",
          "shell.execute_reply": "2022-03-22T05:09:25.695046Z",
          "shell.execute_reply.started": "2022-03-22T04:18:29.386117Z"
        },
        "papermill": {
          "duration": 0.517599,
          "end_time": "2022-03-22T05:09:25.695223",
          "exception": false,
          "start_time": "2022-03-22T05:09:25.177624",
          "status": "completed"
        },
        "tags": [],
        "id": "4755a4ad",
        "outputId": "6419992d-4ada-4dbe-f2ba-f08d13156b6f"
      },
      "outputs": [
        {
          "data": {
            "text/html": [
              "<div>\n",
              "<style scoped>\n",
              "    .dataframe tbody tr th:only-of-type {\n",
              "        vertical-align: middle;\n",
              "    }\n",
              "\n",
              "    .dataframe tbody tr th {\n",
              "        vertical-align: top;\n",
              "    }\n",
              "\n",
              "    .dataframe thead th {\n",
              "        text-align: right;\n",
              "    }\n",
              "</style>\n",
              "<table border=\"1\" class=\"dataframe\">\n",
              "  <thead>\n",
              "    <tr style=\"text-align: right;\">\n",
              "      <th></th>\n",
              "      <th>type</th>\n",
              "      <th>nameOrig</th>\n",
              "      <th>nameDest</th>\n",
              "    </tr>\n",
              "  </thead>\n",
              "  <tbody>\n",
              "    <tr>\n",
              "      <th>0</th>\n",
              "      <td>PAYMENT</td>\n",
              "      <td>C1231006815</td>\n",
              "      <td>M1979787155</td>\n",
              "    </tr>\n",
              "    <tr>\n",
              "      <th>1</th>\n",
              "      <td>PAYMENT</td>\n",
              "      <td>C1666544295</td>\n",
              "      <td>M2044282225</td>\n",
              "    </tr>\n",
              "    <tr>\n",
              "      <th>2</th>\n",
              "      <td>TRANSFER</td>\n",
              "      <td>C1305486145</td>\n",
              "      <td>C553264065</td>\n",
              "    </tr>\n",
              "    <tr>\n",
              "      <th>3</th>\n",
              "      <td>CASH_OUT</td>\n",
              "      <td>C840083671</td>\n",
              "      <td>C38997010</td>\n",
              "    </tr>\n",
              "    <tr>\n",
              "      <th>4</th>\n",
              "      <td>PAYMENT</td>\n",
              "      <td>C2048537720</td>\n",
              "      <td>M1230701703</td>\n",
              "    </tr>\n",
              "    <tr>\n",
              "      <th>...</th>\n",
              "      <td>...</td>\n",
              "      <td>...</td>\n",
              "      <td>...</td>\n",
              "    </tr>\n",
              "    <tr>\n",
              "      <th>6362615</th>\n",
              "      <td>CASH_OUT</td>\n",
              "      <td>C786484425</td>\n",
              "      <td>C776919290</td>\n",
              "    </tr>\n",
              "    <tr>\n",
              "      <th>6362616</th>\n",
              "      <td>TRANSFER</td>\n",
              "      <td>C1529008245</td>\n",
              "      <td>C1881841831</td>\n",
              "    </tr>\n",
              "    <tr>\n",
              "      <th>6362617</th>\n",
              "      <td>CASH_OUT</td>\n",
              "      <td>C1162922333</td>\n",
              "      <td>C1365125890</td>\n",
              "    </tr>\n",
              "    <tr>\n",
              "      <th>6362618</th>\n",
              "      <td>TRANSFER</td>\n",
              "      <td>C1685995037</td>\n",
              "      <td>C2080388513</td>\n",
              "    </tr>\n",
              "    <tr>\n",
              "      <th>6362619</th>\n",
              "      <td>CASH_OUT</td>\n",
              "      <td>C1280323807</td>\n",
              "      <td>C873221189</td>\n",
              "    </tr>\n",
              "  </tbody>\n",
              "</table>\n",
              "<p>6362620 rows × 3 columns</p>\n",
              "</div>"
            ],
            "text/plain": [
              "             type     nameOrig     nameDest\n",
              "0         PAYMENT  C1231006815  M1979787155\n",
              "1         PAYMENT  C1666544295  M2044282225\n",
              "2        TRANSFER  C1305486145   C553264065\n",
              "3        CASH_OUT   C840083671    C38997010\n",
              "4         PAYMENT  C2048537720  M1230701703\n",
              "...           ...          ...          ...\n",
              "6362615  CASH_OUT   C786484425   C776919290\n",
              "6362616  TRANSFER  C1529008245  C1881841831\n",
              "6362617  CASH_OUT  C1162922333  C1365125890\n",
              "6362618  TRANSFER  C1685995037  C2080388513\n",
              "6362619  CASH_OUT  C1280323807   C873221189\n",
              "\n",
              "[6362620 rows x 3 columns]"
            ]
          },
          "execution_count": 51,
          "metadata": {},
          "output_type": "execute_result"
        }
      ],
      "source": [
        " "
      ]
    },
    {
      "cell_type": "code",
      "execution_count": null,
      "id": "a65dc790",
      "metadata": {
        "execution": {
          "iopub.execute_input": "2022-03-22T05:09:25.775878Z",
          "iopub.status.busy": "2022-03-22T05:09:25.774838Z",
          "iopub.status.idle": "2022-03-22T05:09:26.245855Z",
          "shell.execute_reply": "2022-03-22T05:09:26.246458Z",
          "shell.execute_reply.started": "2022-03-22T04:18:29.841641Z"
        },
        "papermill": {
          "duration": 0.512986,
          "end_time": "2022-03-22T05:09:26.246632",
          "exception": false,
          "start_time": "2022-03-22T05:09:25.733646",
          "status": "completed"
        },
        "tags": [],
        "id": "a65dc790",
        "outputId": "fa181df1-1218-4dbf-9379-31b4500bed32"
      },
      "outputs": [
        {
          "data": {
            "text/plain": [
              "['step',\n",
              " 'amount',\n",
              " 'oldbalanceOrg',\n",
              " 'newbalanceOrig',\n",
              " 'oldbalanceDest',\n",
              " 'newbalanceDest',\n",
              " 'isFlaggedFraud']"
            ]
          },
          "execution_count": 29,
          "metadata": {},
          "output_type": "execute_result"
        }
      ],
      "source": [
        "num = [i for i in df.drop('isFraud', axis=1).columns if df[i].dtypes != 'O']\n",
        "num"
      ]
    },
    {
      "cell_type": "markdown",
      "id": "f71b0d32",
      "metadata": {
        "papermill": {
          "duration": 0.038339,
          "end_time": "2022-03-22T05:09:26.323729",
          "exception": false,
          "start_time": "2022-03-22T05:09:26.285390",
          "status": "completed"
        },
        "tags": [],
        "id": "f71b0d32"
      },
      "source": [
        "Categorical Data"
      ]
    },
    {
      "cell_type": "code",
      "execution_count": null,
      "id": "db4c1fb0",
      "metadata": {
        "execution": {
          "iopub.execute_input": "2022-03-22T05:09:26.407463Z",
          "iopub.status.busy": "2022-03-22T05:09:26.406284Z",
          "iopub.status.idle": "2022-03-22T05:09:34.039077Z",
          "shell.execute_reply": "2022-03-22T05:09:34.039577Z",
          "shell.execute_reply.started": "2022-03-22T04:18:32.791345Z"
        },
        "papermill": {
          "duration": 7.676428,
          "end_time": "2022-03-22T05:09:34.039758",
          "exception": false,
          "start_time": "2022-03-22T05:09:26.363330",
          "status": "completed"
        },
        "tags": [],
        "id": "db4c1fb0",
        "outputId": "2aaa3084-bbc1-4f90-d844-f6434608ee99"
      },
      "outputs": [
        {
          "data": {
            "text/plain": [
              "<AxesSubplot:xlabel='type', ylabel='count'>"
            ]
          },
          "execution_count": 6,
          "metadata": {},
          "output_type": "execute_result"
        },
        {
          "data": {
            "image/png": "[encoded data removed]",
            "text/plain": [
              "<Figure size 432x288 with 1 Axes>"
            ]
          },
          "metadata": {},
          "output_type": "display_data"
        }
      ],
      "source": [
        "sns.countplot(df['type'], )#palette='cool');"
      ]
    },
    {
      "cell_type": "code",
      "execution_count": null,
      "id": "d51ca19e",
      "metadata": {
        "execution": {
          "iopub.execute_input": "2022-03-22T05:09:34.509512Z",
          "iopub.status.busy": "2022-03-22T05:09:34.508700Z",
          "iopub.status.idle": "2022-03-22T05:09:41.013024Z",
          "shell.execute_reply": "2022-03-22T05:09:41.012221Z",
          "shell.execute_reply.started": "2022-03-21T13:52:33.260079Z"
        },
        "papermill": {
          "duration": 6.931684,
          "end_time": "2022-03-22T05:09:41.013180",
          "exception": false,
          "start_time": "2022-03-22T05:09:34.081496",
          "status": "completed"
        },
        "tags": [],
        "id": "d51ca19e",
        "outputId": "a44bcc6f-355e-4834-d6de-e6a609e5d4a8"
      },
      "outputs": [
        {
          "data": {
            "text/plain": [
              "(6353307, 2722362)"
            ]
          },
          "execution_count": 40,
          "metadata": {},
          "output_type": "execute_result"
        }
      ],
      "source": [
        "df['nameOrig'].nunique(), df['nameDest'].nunique()"
      ]
    },
    {
      "cell_type": "code",
      "execution_count": null,
      "id": "28aa7ce7",
      "metadata": {
        "id": "28aa7ce7",
        "outputId": "37d506aa-6a1d-4c5b-b807-ef11c726ff7d"
      },
      "outputs": [
        {
          "data": {
            "text/plain": [
              "<AxesSubplot:xlabel='step', ylabel='Density'>"
            ]
          },
          "execution_count": 9,
          "metadata": {},
          "output_type": "execute_result"
        },
        {
          "data": {
            "image/png": "[encoded data removed]",
            "text/plain": [
              "<Figure size 1440x1080 with 1 Axes>"
            ]
          },
          "metadata": {},
          "output_type": "display_data"
        }
      ],
      "source": [
        "sns.set(rc={'figure.figsize':(20,15)})\n",
        "sns.distplot(df['step'], kde = True)"
      ]
    },
    {
      "cell_type": "code",
      "execution_count": null,
      "id": "fa97c7be",
      "metadata": {
        "execution": {
          "iopub.execute_input": "2022-03-22T05:09:41.117880Z",
          "iopub.status.busy": "2022-03-22T05:09:41.117080Z",
          "iopub.status.idle": "2022-03-22T05:10:06.374571Z",
          "shell.execute_reply": "2022-03-22T05:10:06.375118Z",
          "shell.execute_reply.started": "2022-03-21T13:57:28.368892Z"
        },
        "papermill": {
          "duration": 25.319163,
          "end_time": "2022-03-22T05:10:06.375371",
          "exception": false,
          "start_time": "2022-03-22T05:09:41.056208",
          "status": "completed"
        },
        "tags": [],
        "id": "fa97c7be",
        "outputId": "5b37ec9f-b0c4-4fec-e0bf-d097135cf0dc"
      },
      "outputs": [
        {
          "data": {
            "text/plain": [
              "<AxesSubplot:xlabel='amount', ylabel='Density'>"
            ]
          },
          "execution_count": 9,
          "metadata": {},
          "output_type": "execute_result"
        },
        {
          "data": {
            "image/png": "[encoded data removed]",
            "text/plain": [
              "<Figure size 720x576 with 1 Axes>"
            ]
          },
          "metadata": {},
          "output_type": "display_data"
        }
      ],
      "source": [
        "#sns.set(rc={'figure.figsize':(11,9)})\n",
        "plt.figure(figsize = (10,8))\n",
        "sns.distplot(df['amount'])"
      ]
    },
    {
      "cell_type": "code",
      "execution_count": null,
      "id": "1ae27143",
      "metadata": {
        "execution": {
          "iopub.execute_input": "2022-03-22T05:10:27.659327Z",
          "iopub.status.busy": "2022-03-22T05:10:27.658297Z",
          "iopub.status.idle": "2022-03-22T05:10:28.079417Z",
          "shell.execute_reply": "2022-03-22T05:10:28.079926Z",
          "shell.execute_reply.started": "2022-03-22T04:19:43.086081Z"
        },
        "papermill": {
          "duration": 0.467686,
          "end_time": "2022-03-22T05:10:28.080112",
          "exception": false,
          "start_time": "2022-03-22T05:10:27.612426",
          "status": "completed"
        },
        "tags": [],
        "id": "1ae27143"
      },
      "outputs": [],
      "source": [
        "sns.distplot(fraud['amount']);"
      ]
    },
    {
      "cell_type": "markdown",
      "id": "754b2f0c",
      "metadata": {
        "papermill": {
          "duration": 0.04559,
          "end_time": "2022-03-22T05:10:28.172357",
          "exception": false,
          "start_time": "2022-03-22T05:10:28.126767",
          "status": "completed"
        },
        "tags": [],
        "id": "754b2f0c"
      },
      "source": [
        "We can see that fraud is only when amount is low."
      ]
    },
    {
      "cell_type": "code",
      "execution_count": null,
      "id": "bc4cb609",
      "metadata": {
        "execution": {
          "iopub.execute_input": "2022-03-22T05:10:28.268425Z",
          "iopub.status.busy": "2022-03-22T05:10:28.267536Z",
          "iopub.status.idle": "2022-03-22T05:10:28.270951Z",
          "shell.execute_reply": "2022-03-22T05:10:28.271586Z",
          "shell.execute_reply.started": "2022-03-22T04:42:59.041567Z"
        },
        "papermill": {
          "duration": 0.055253,
          "end_time": "2022-03-22T05:10:28.271774",
          "exception": false,
          "start_time": "2022-03-22T05:10:28.216521",
          "status": "completed"
        },
        "tags": [],
        "id": "bc4cb609",
        "outputId": "654749c9-69f5-4851-a229-a12467b64e0d"
      },
      "outputs": [
        {
          "data": {
            "text/plain": [
              "step                int64\n",
              "type               object\n",
              "amount            float64\n",
              "nameOrig           object\n",
              "oldbalanceOrg     float64\n",
              "newbalanceOrig    float64\n",
              "nameDest           object\n",
              "oldbalanceDest    float64\n",
              "newbalanceDest    float64\n",
              "isFraud             int64\n",
              "isFlaggedFraud      int64\n",
              "dtype: object"
            ]
          },
          "execution_count": 18,
          "metadata": {},
          "output_type": "execute_result"
        }
      ],
      "source": [
        "df.dtypes"
      ]
    },
    {
      "cell_type": "code",
      "execution_count": null,
      "id": "c88fee09",
      "metadata": {
        "execution": {
          "iopub.execute_input": "2022-03-22T05:10:28.744303Z",
          "iopub.status.busy": "2022-03-22T05:10:28.462341Z",
          "iopub.status.idle": "2022-03-22T05:10:29.185943Z",
          "shell.execute_reply": "2022-03-22T05:10:29.186466Z",
          "shell.execute_reply.started": "2022-03-22T04:34:03.181452Z"
        },
        "papermill": {
          "duration": 0.869694,
          "end_time": "2022-03-22T05:10:29.186656",
          "exception": false,
          "start_time": "2022-03-22T05:10:28.316962",
          "status": "completed"
        },
        "tags": [],
        "id": "c88fee09",
        "outputId": "3ff7cb05-6ef2-4f1f-8471-1bc54a2e50ef"
      },
      "outputs": [
        {
          "data": {
            "text/html": [
              "<div>\n",
              "<style scoped>\n",
              "    .dataframe tbody tr th:only-of-type {\n",
              "        vertical-align: middle;\n",
              "    }\n",
              "\n",
              "    .dataframe tbody tr th {\n",
              "        vertical-align: top;\n",
              "    }\n",
              "\n",
              "    .dataframe thead th {\n",
              "        text-align: right;\n",
              "    }\n",
              "</style>\n",
              "<table border=\"1\" class=\"dataframe\">\n",
              "  <thead>\n",
              "    <tr style=\"text-align: right;\">\n",
              "      <th></th>\n",
              "      <th>type_CASH_OUT</th>\n",
              "      <th>type_DEBIT</th>\n",
              "      <th>type_PAYMENT</th>\n",
              "      <th>type_TRANSFER</th>\n",
              "    </tr>\n",
              "  </thead>\n",
              "  <tbody>\n",
              "    <tr>\n",
              "      <th>0</th>\n",
              "      <td>0</td>\n",
              "      <td>0</td>\n",
              "      <td>1</td>\n",
              "      <td>0</td>\n",
              "    </tr>\n",
              "    <tr>\n",
              "      <th>1</th>\n",
              "      <td>0</td>\n",
              "      <td>0</td>\n",
              "      <td>1</td>\n",
              "      <td>0</td>\n",
              "    </tr>\n",
              "    <tr>\n",
              "      <th>2</th>\n",
              "      <td>0</td>\n",
              "      <td>0</td>\n",
              "      <td>0</td>\n",
              "      <td>1</td>\n",
              "    </tr>\n",
              "    <tr>\n",
              "      <th>3</th>\n",
              "      <td>1</td>\n",
              "      <td>0</td>\n",
              "      <td>0</td>\n",
              "      <td>0</td>\n",
              "    </tr>\n",
              "    <tr>\n",
              "      <th>4</th>\n",
              "      <td>0</td>\n",
              "      <td>0</td>\n",
              "      <td>1</td>\n",
              "      <td>0</td>\n",
              "    </tr>\n",
              "  </tbody>\n",
              "</table>\n",
              "</div>"
            ],
            "text/plain": [
              "   type_CASH_OUT  type_DEBIT  type_PAYMENT  type_TRANSFER\n",
              "0              0           0             1              0\n",
              "1              0           0             1              0\n",
              "2              0           0             0              1\n",
              "3              1           0             0              0\n",
              "4              0           0             1              0"
            ]
          },
          "execution_count": 20,
          "metadata": {},
          "output_type": "execute_result"
        }
      ],
      "source": [
        "types = pd.get_dummies(df['type'], prefix='type', drop_first= True)\n",
        "types.head()"
      ]
    },
    {
      "cell_type": "code",
      "execution_count": null,
      "id": "221a129b",
      "metadata": {
        "id": "221a129b"
      },
      "outputs": [],
      "source": [
        "#df[type].unique()"
      ]
    },
    {
      "cell_type": "code",
      "execution_count": null,
      "id": "806e6136",
      "metadata": {
        "execution": {
          "iopub.execute_input": "2022-03-22T05:10:31.200687Z",
          "iopub.status.busy": "2022-03-22T05:10:31.195181Z",
          "iopub.status.idle": "2022-03-22T05:11:28.198366Z",
          "shell.execute_reply": "2022-03-22T05:11:28.197585Z",
          "shell.execute_reply.started": "2022-03-22T04:40:09.892196Z"
        },
        "papermill": {
          "duration": 58.966795,
          "end_time": "2022-03-22T05:11:28.198539",
          "exception": false,
          "start_time": "2022-03-22T05:10:29.231744",
          "status": "completed"
        },
        "tags": [],
        "id": "806e6136"
      },
      "outputs": [],
      "source": [
        "df['nameOrig'] = label.fit_transform(df['nameOrig'])\n",
        "df['nameDest'] = label.fit_transform(df['nameDest'])"
      ]
    },
    {
      "cell_type": "code",
      "execution_count": null,
      "id": "b57b4c8a",
      "metadata": {
        "execution": {
          "iopub.execute_input": "2022-03-22T05:11:28.299429Z",
          "iopub.status.busy": "2022-03-22T05:11:28.297489Z",
          "iopub.status.idle": "2022-03-22T05:11:28.540105Z",
          "shell.execute_reply": "2022-03-22T05:11:28.539541Z",
          "shell.execute_reply.started": "2022-03-22T04:42:16.176861Z"
        },
        "papermill": {
          "duration": 0.295034,
          "end_time": "2022-03-22T05:11:28.540263",
          "exception": false,
          "start_time": "2022-03-22T05:11:28.245229",
          "status": "completed"
        },
        "tags": [],
        "id": "b57b4c8a",
        "outputId": "015330a1-727b-4c30-c007-8d03505800d5"
      },
      "outputs": [
        {
          "data": {
            "text/html": [
              "<div>\n",
              "<style scoped>\n",
              "    .dataframe tbody tr th:only-of-type {\n",
              "        vertical-align: middle;\n",
              "    }\n",
              "\n",
              "    .dataframe tbody tr th {\n",
              "        vertical-align: top;\n",
              "    }\n",
              "\n",
              "    .dataframe thead th {\n",
              "        text-align: right;\n",
              "    }\n",
              "</style>\n",
              "<table border=\"1\" class=\"dataframe\">\n",
              "  <thead>\n",
              "    <tr style=\"text-align: right;\">\n",
              "      <th></th>\n",
              "      <th>nameOrig</th>\n",
              "      <th>nameDest</th>\n",
              "    </tr>\n",
              "  </thead>\n",
              "  <tbody>\n",
              "    <tr>\n",
              "      <th>0</th>\n",
              "      <td>757869</td>\n",
              "      <td>1662094</td>\n",
              "    </tr>\n",
              "    <tr>\n",
              "      <th>1</th>\n",
              "      <td>2188998</td>\n",
              "      <td>1733924</td>\n",
              "    </tr>\n",
              "    <tr>\n",
              "      <th>2</th>\n",
              "      <td>1002156</td>\n",
              "      <td>439685</td>\n",
              "    </tr>\n",
              "    <tr>\n",
              "      <th>3</th>\n",
              "      <td>5828262</td>\n",
              "      <td>391696</td>\n",
              "    </tr>\n",
              "    <tr>\n",
              "      <th>4</th>\n",
              "      <td>3445981</td>\n",
              "      <td>828919</td>\n",
              "    </tr>\n",
              "  </tbody>\n",
              "</table>\n",
              "</div>"
            ],
            "text/plain": [
              "   nameOrig  nameDest\n",
              "0    757869   1662094\n",
              "1   2188998   1733924\n",
              "2   1002156    439685\n",
              "3   5828262    391696\n",
              "4   3445981    828919"
            ]
          },
          "execution_count": 22,
          "metadata": {},
          "output_type": "execute_result"
        }
      ],
      "source": [
        "df[['nameOrig', 'nameDest']].head()"
      ]
    },
    {
      "cell_type": "code",
      "execution_count": null,
      "id": "0fd43157",
      "metadata": {
        "execution": {
          "iopub.execute_input": "2022-03-22T05:11:28.651742Z",
          "iopub.status.busy": "2022-03-22T05:11:28.650979Z",
          "iopub.status.idle": "2022-03-22T05:11:29.534344Z",
          "shell.execute_reply": "2022-03-22T05:11:29.534817Z",
          "shell.execute_reply.started": "2022-03-22T04:50:04.872523Z"
        },
        "papermill": {
          "duration": 0.948267,
          "end_time": "2022-03-22T05:11:29.534997",
          "exception": false,
          "start_time": "2022-03-22T05:11:28.586730",
          "status": "completed"
        },
        "tags": [],
        "id": "0fd43157",
        "outputId": "669db43b-4984-440a-f627-31c034a4d170"
      },
      "outputs": [
        {
          "data": {
            "text/html": [
              "<div>\n",
              "<style scoped>\n",
              "    .dataframe tbody tr th:only-of-type {\n",
              "        vertical-align: middle;\n",
              "    }\n",
              "\n",
              "    .dataframe tbody tr th {\n",
              "        vertical-align: top;\n",
              "    }\n",
              "\n",
              "    .dataframe thead th {\n",
              "        text-align: right;\n",
              "    }\n",
              "</style>\n",
              "<table border=\"1\" class=\"dataframe\">\n",
              "  <thead>\n",
              "    <tr style=\"text-align: right;\">\n",
              "      <th></th>\n",
              "      <th>step</th>\n",
              "      <th>amount</th>\n",
              "      <th>nameOrig</th>\n",
              "      <th>oldbalanceOrg</th>\n",
              "      <th>newbalanceOrig</th>\n",
              "      <th>nameDest</th>\n",
              "      <th>oldbalanceDest</th>\n",
              "      <th>newbalanceDest</th>\n",
              "      <th>isFraud</th>\n",
              "      <th>isFlaggedFraud</th>\n",
              "      <th>type_CASH_OUT</th>\n",
              "      <th>type_DEBIT</th>\n",
              "      <th>type_PAYMENT</th>\n",
              "      <th>type_TRANSFER</th>\n",
              "    </tr>\n",
              "  </thead>\n",
              "  <tbody>\n",
              "    <tr>\n",
              "      <th>0</th>\n",
              "      <td>1</td>\n",
              "      <td>9839.64</td>\n",
              "      <td>757869</td>\n",
              "      <td>170136.0</td>\n",
              "      <td>160296.36</td>\n",
              "      <td>1662094</td>\n",
              "      <td>0.0</td>\n",
              "      <td>0.0</td>\n",
              "      <td>0</td>\n",
              "      <td>0</td>\n",
              "      <td>0</td>\n",
              "      <td>0</td>\n",
              "      <td>1</td>\n",
              "      <td>0</td>\n",
              "    </tr>\n",
              "    <tr>\n",
              "      <th>1</th>\n",
              "      <td>1</td>\n",
              "      <td>1864.28</td>\n",
              "      <td>2188998</td>\n",
              "      <td>21249.0</td>\n",
              "      <td>19384.72</td>\n",
              "      <td>1733924</td>\n",
              "      <td>0.0</td>\n",
              "      <td>0.0</td>\n",
              "      <td>0</td>\n",
              "      <td>0</td>\n",
              "      <td>0</td>\n",
              "      <td>0</td>\n",
              "      <td>1</td>\n",
              "      <td>0</td>\n",
              "    </tr>\n",
              "    <tr>\n",
              "      <th>2</th>\n",
              "      <td>1</td>\n",
              "      <td>181.00</td>\n",
              "      <td>1002156</td>\n",
              "      <td>181.0</td>\n",
              "      <td>0.00</td>\n",
              "      <td>439685</td>\n",
              "      <td>0.0</td>\n",
              "      <td>0.0</td>\n",
              "      <td>1</td>\n",
              "      <td>0</td>\n",
              "      <td>0</td>\n",
              "      <td>0</td>\n",
              "      <td>0</td>\n",
              "      <td>1</td>\n",
              "    </tr>\n",
              "    <tr>\n",
              "      <th>3</th>\n",
              "      <td>1</td>\n",
              "      <td>181.00</td>\n",
              "      <td>5828262</td>\n",
              "      <td>181.0</td>\n",
              "      <td>0.00</td>\n",
              "      <td>391696</td>\n",
              "      <td>21182.0</td>\n",
              "      <td>0.0</td>\n",
              "      <td>1</td>\n",
              "      <td>0</td>\n",
              "      <td>1</td>\n",
              "      <td>0</td>\n",
              "      <td>0</td>\n",
              "      <td>0</td>\n",
              "    </tr>\n",
              "    <tr>\n",
              "      <th>4</th>\n",
              "      <td>1</td>\n",
              "      <td>11668.14</td>\n",
              "      <td>3445981</td>\n",
              "      <td>41554.0</td>\n",
              "      <td>29885.86</td>\n",
              "      <td>828919</td>\n",
              "      <td>0.0</td>\n",
              "      <td>0.0</td>\n",
              "      <td>0</td>\n",
              "      <td>0</td>\n",
              "      <td>0</td>\n",
              "      <td>0</td>\n",
              "      <td>1</td>\n",
              "      <td>0</td>\n",
              "    </tr>\n",
              "  </tbody>\n",
              "</table>\n",
              "</div>"
            ],
            "text/plain": [
              "   step    amount  nameOrig  oldbalanceOrg  newbalanceOrig  nameDest  \\\n",
              "0     1   9839.64    757869       170136.0       160296.36   1662094   \n",
              "1     1   1864.28   2188998        21249.0        19384.72   1733924   \n",
              "2     1    181.00   1002156          181.0            0.00    439685   \n",
              "3     1    181.00   5828262          181.0            0.00    391696   \n",
              "4     1  11668.14   3445981        41554.0        29885.86    828919   \n",
              "\n",
              "   oldbalanceDest  newbalanceDest  isFraud  isFlaggedFraud  type_CASH_OUT  \\\n",
              "0             0.0             0.0        0               0              0   \n",
              "1             0.0             0.0        0               0              0   \n",
              "2             0.0             0.0        1               0              0   \n",
              "3         21182.0             0.0        1               0              1   \n",
              "4             0.0             0.0        0               0              0   \n",
              "\n",
              "   type_DEBIT  type_PAYMENT  type_TRANSFER  \n",
              "0           0             1              0  \n",
              "1           0             1              0  \n",
              "2           0             0              1  \n",
              "3           0             0              0  \n",
              "4           0             1              0  "
            ]
          },
          "execution_count": 23,
          "metadata": {},
          "output_type": "execute_result"
        }
      ],
      "source": [
        "df = pd.concat([df, types], axis=1)\n",
        "df = df.drop('type', axis=1)\n",
        "df.head()"
      ]
    },
    {
      "cell_type": "code",
      "execution_count": null,
      "id": "d73c7d5d",
      "metadata": {
        "execution": {
          "iopub.execute_input": "2022-03-22T05:11:29.793045Z",
          "iopub.status.busy": "2022-03-22T05:11:29.792368Z",
          "iopub.status.idle": "2022-03-22T05:11:29.817489Z",
          "shell.execute_reply": "2022-03-22T05:11:29.816860Z",
          "shell.execute_reply.started": "2022-03-22T05:01:42.361389Z"
        },
        "papermill": {
          "duration": 0.234677,
          "end_time": "2022-03-22T05:11:29.817641",
          "exception": false,
          "start_time": "2022-03-22T05:11:29.582964",
          "status": "completed"
        },
        "tags": [],
        "id": "d73c7d5d"
      },
      "outputs": [],
      "source": [
        "X = df.drop('isFraud', axis=1)\n",
        "y = df['isFraud']"
      ]
    },
    {
      "cell_type": "code",
      "execution_count": null,
      "id": "b188a831",
      "metadata": {
        "execution": {
          "iopub.execute_input": "2022-03-22T05:11:29.917465Z",
          "iopub.status.busy": "2022-03-22T05:11:29.916378Z",
          "iopub.status.idle": "2022-03-22T05:11:32.386915Z",
          "shell.execute_reply": "2022-03-22T05:11:32.386345Z",
          "shell.execute_reply.started": "2022-03-22T05:01:43.356501Z"
        },
        "papermill": {
          "duration": 2.522845,
          "end_time": "2022-03-22T05:11:32.387072",
          "exception": false,
          "start_time": "2022-03-22T05:11:29.864227",
          "status": "completed"
        },
        "tags": [],
        "id": "b188a831"
      },
      "outputs": [],
      "source": [
        "X, X_test, y, y_test = train_test_split(X, y, test_size=0.2, random_state=24)"
      ]
    },
    {
      "cell_type": "code",
      "execution_count": null,
      "id": "a42f60ac",
      "metadata": {
        "execution": {
          "iopub.execute_input": "2022-03-22T05:11:32.496970Z",
          "iopub.status.busy": "2022-03-22T05:11:32.493007Z",
          "iopub.status.idle": "2022-03-22T05:30:26.293721Z",
          "shell.execute_reply": "2022-03-22T05:30:26.293030Z",
          "shell.execute_reply.started": "2022-03-22T05:01:45.261363Z"
        },
        "papermill": {
          "duration": 1133.859691,
          "end_time": "2022-03-22T05:30:26.294002",
          "exception": false,
          "start_time": "2022-03-22T05:11:32.434311",
          "status": "completed"
        },
        "tags": [],
        "id": "a42f60ac",
        "outputId": "c7ef363f-3514-42cb-c524-26635c87d8d3",
        "colab": {
          "referenced_widgets": [
            "1f8ef6b2c5a94ffb9a3893c741fec086"
          ]
        }
      },
      "outputs": [
        {
          "data": {
            "application/vnd.jupyter.widget-view+json": {
              "model_id": "1f8ef6b2c5a94ffb9a3893c741fec086",
              "version_major": 2,
              "version_minor": 0
            },
            "text/plain": [
              "  0%|          | 0/2 [00:00<?, ?it/s]"
            ]
          },
          "metadata": {},
          "output_type": "display_data"
        },
        {
          "name": "stdout",
          "output_type": "stream",
          "text": [
            "**********\n",
            "| fold 1 |\n",
            "**********\n",
            "***************************************************\n",
            "| Training Accuracy   :- 99.81% | 99.99% | 100.0% |\n",
            "***************************************************\n",
            "**************************************************\n",
            "| Validation Accuracy :- 99.8% | 99.98% | 99.97% |\n",
            "**************************************************\n",
            "**********\n",
            "| fold 2 |\n",
            "**********\n"
          ]
        }
      ],
      "source": [
        "N_SPLITS = 2  # previous:300, increasing N_SPLITS to remove error due to randomness\n",
        "\n",
        "lgbm_preds = []\n",
        "xgb_preds = []\n",
        "catb_preds = []\n",
        "\n",
        "prob = []\n",
        "\n",
        "folds = StratifiedKFold(n_splits=N_SPLITS, shuffle=True)\n",
        "\n",
        "for fold, (train_id, test_id) in enumerate(tqdm(folds.split(X, y), total=N_SPLITS)):\n",
        "\n",
        "    my_print(f'fold {fold + 1}')\n",
        " \n",
        "    X_train, y_train = X.iloc[train_id], y.iloc[train_id] \n",
        "    X_valid, y_valid = X.iloc[test_id], y.iloc[test_id]\n",
        "    \n",
        "    lgbm_model = lgbm.LGBMClassifier()\n",
        "    xgb_model  = xgb.XGBClassifier()\n",
        "    catb_model = catb.CatBoostClassifier(verbose=0)\n",
        "    \n",
        "    lgbm_model.fit(X_train, y_train)\n",
        "    xgb_model.fit(X_train, y_train)\n",
        "    catb_model.fit(X_train, y_train)\n",
        "        \n",
        "    my_print(f'Training Accuracy   :- {(lgbm_model.score(X_train, y_train)*100).round(2)}% | {(xgb_model.score(X_train, y_train)*100).round(2)}% | {(catb_model.score(X_train, y_train)*100).round(2)}%')\n",
        "    my_print(f'Validation Accuracy :- {(lgbm_model.score(X_valid, y_valid)*100).round(2)}% | {(xgb_model.score(X_valid, y_valid)*100).round(2)}% | {(catb_model.score(X_valid, y_valid)*100).round(2)}%')\n",
        "    \n",
        "    prob1, prob2, prob3 = lgbm_model.predict_proba(X_test), xgb_model.predict_proba(X_test), catb_model.predict_proba(X_test)\n",
        "    prob.append((prob1 + prob2 + prob3) / 3)\n",
        "my_print('Model Trained !!!')\n"
      ]
    },
    {
      "cell_type": "code",
      "execution_count": null,
      "id": "9e7c93ef",
      "metadata": {
        "execution": {
          "iopub.execute_input": "2022-03-22T05:30:26.404463Z",
          "iopub.status.busy": "2022-03-22T05:30:26.402986Z",
          "iopub.status.idle": "2022-03-22T05:30:36.675256Z",
          "shell.execute_reply": "2022-03-22T05:30:36.674601Z",
          "shell.execute_reply.started": "2022-03-22T05:02:18.037431Z"
        },
        "papermill": {
          "duration": 10.331062,
          "end_time": "2022-03-22T05:30:36.675428",
          "exception": false,
          "start_time": "2022-03-22T05:30:26.344366",
          "status": "completed"
        },
        "tags": [],
        "id": "9e7c93ef"
      },
      "outputs": [],
      "source": [
        "final = [[0,0]]\n",
        "for i in range(N_SPLITS):\n",
        "    final = final + prob[i]\n",
        "    \n",
        "final = final/N_SPLITS\n",
        "y_pred = pd.Series([np.argmax([i]) for i in final])"
      ]
    },
    {
      "cell_type": "code",
      "execution_count": null,
      "id": "af92f4fe",
      "metadata": {
        "execution": {
          "iopub.execute_input": "2022-03-22T05:30:36.784467Z",
          "iopub.status.busy": "2022-03-22T05:30:36.783274Z",
          "iopub.status.idle": "2022-03-22T05:30:36.877269Z",
          "shell.execute_reply": "2022-03-22T05:30:36.876667Z",
          "shell.execute_reply.started": "2022-03-22T05:05:44.922017Z"
        },
        "papermill": {
          "duration": 0.151595,
          "end_time": "2022-03-22T05:30:36.877411",
          "exception": false,
          "start_time": "2022-03-22T05:30:36.725816",
          "status": "completed"
        },
        "tags": [],
        "id": "af92f4fe",
        "outputId": "e024b77d-4a32-4735-c0ca-e7223881d428"
      },
      "outputs": [
        {
          "name": "stdout",
          "output_type": "stream",
          "text": [
            "------------------------------------\n",
            "| Test Accuracy:- 99.976660558072% |\n",
            "------------------------------------\n"
          ]
        }
      ],
      "source": [
        "from sklearn.metrics import accuracy_score, confusion_matrix\n",
        "\n",
        "my_print(f'Test Accuracy:- {accuracy_score(y_test, y_pred)*100}%')"
      ]
    },
    {
      "cell_type": "code",
      "execution_count": null,
      "id": "d39e5001",
      "metadata": {
        "execution": {
          "iopub.execute_input": "2022-03-22T05:30:36.986191Z",
          "iopub.status.busy": "2022-03-22T05:30:36.985471Z",
          "iopub.status.idle": "2022-03-22T05:30:37.433352Z",
          "shell.execute_reply": "2022-03-22T05:30:37.432780Z",
          "shell.execute_reply.started": "2022-03-22T05:07:08.041516Z"
        },
        "papermill": {
          "duration": 0.504364,
          "end_time": "2022-03-22T05:30:37.433501",
          "exception": false,
          "start_time": "2022-03-22T05:30:36.929137",
          "status": "completed"
        },
        "tags": [],
        "id": "d39e5001",
        "outputId": "fb50ed7a-e58d-4560-f019-e23d98c09501"
      },
      "outputs": [
        {
          "data": {
            "image/png": "[encoded data removed]",
            "text/plain": [
              "<Figure size 432x288 with 2 Axes>"
            ]
          },
          "metadata": {},
          "output_type": "display_data"
        }
      ],
      "source": [
        "sns.heatmap(confusion_matrix(y_test, y_pred), cmap='cool_r', linewidths=0.5, annot=True);"
      ]
    }
  ],
  "metadata": {
    "kernelspec": {
      "display_name": "Python 3 (ipykernel)",
      "language": "python",
      "name": "python3"
    },
    "language_info": {
      "codemirror_mode": {
        "name": "ipython",
        "version": 3
      },
      "file_extension": ".py",
      "mimetype": "text/x-python",
      "name": "python",
      "nbconvert_exporter": "python",
      "pygments_lexer": "ipython3",
      "version": "3.9.7"
    },
    "papermill": {
      "default_parameters": {},
      "duration": 1316.57196,
      "end_time": "2022-03-22T05:30:39.507536",
      "environment_variables": {},
      "exception": null,
      "input_path": "__notebook__.ipynb",
      "output_path": "__notebook__.ipynb",
      "parameters": {},
      "start_time": "2022-03-22T05:08:42.935576",
      "version": "2.3.3"
    },
    "widgets": {
      "application/vnd.jupyter.widget-state+json": {}
    },
    "colab": {
      "name": "predicting-fraudulent-transactions.ipynb",
      "provenance": [],
      "include_colab_link": true
    }
  },
  "nbformat": 4,
  "nbformat_minor": 5
}